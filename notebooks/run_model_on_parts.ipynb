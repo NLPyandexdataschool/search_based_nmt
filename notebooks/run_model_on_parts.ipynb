{
 "cells": [
  {
   "cell_type": "code",
   "execution_count": 1,
   "metadata": {},
   "outputs": [],
   "source": [
    "import os\n",
    "import shutil\n",
    "\n",
    "\n",
    "def process_path(path):\n",
    "    d = !pwd\n",
    "    d = d[0]\n",
    "    if path == '.':\n",
    "        return d\n",
    "    else:\n",
    "        return os.path.join(d, path)\n",
    "\n",
    "    \n",
    "RAW_DATA_PATH = process_path('raw_data')\n",
    "SCRIPTS_PATH = process_path('scripts')\n",
    "RUNS_PATH = process_path('.')"
   ]
  },
  {
   "cell_type": "code",
   "execution_count": 2,
   "metadata": {},
   "outputs": [
    {
     "data": {
      "text/plain": [
       "'/Users/boyalex/Downloads/shad/nlp/project/search_based_nmt/he2en_problem/raw_data'"
      ]
     },
     "execution_count": 2,
     "metadata": {},
     "output_type": "execute_result"
    }
   ],
   "source": [
    "RAW_DATA_PATH"
   ]
  },
  {
   "cell_type": "markdown",
   "metadata": {},
   "source": [
    "На всех данных"
   ]
  },
  {
   "cell_type": "code",
   "execution_count": 3,
   "metadata": {},
   "outputs": [],
   "source": [
    "scores = []"
   ]
  },
  {
   "cell_type": "code",
   "execution_count": 4,
   "metadata": {},
   "outputs": [],
   "source": [
    "cur_dir = os.path.join(RUNS_PATH, 'full_train')\n",
    "data_dir = os.path.join(cur_dir, 'data')\n",
    "model_dir = os.path.join(cur_dir, 'model')\n",
    "\n",
    "if not os.path.exists(data_dir):\n",
    "    os.makedirs(data_dir)\n",
    "    \n",
    "if not os.path.exists(model_dir):\n",
    "    os.makedirs(model_dir)\n",
    "\n",
    "                       \n",
    "def copy_files(folder_from, folder_to, part='train'):\n",
    "    shutil.copy(os.path.join(folder_from, 'he.{}.txt'.format(part)), \n",
    "                os.path.join(folder_to, 'he.train.txt'.format(part)))\n",
    "    \n",
    "    shutil.copy(os.path.join(folder_from, 'en.{}.txt'.format(part)), \n",
    "                os.path.join(folder_to, 'en.train.txt'.format(part)))\n",
    "    \n",
    "    shutil.copy(os.path.join(folder_from, 'he.dev.txt'), \n",
    "                os.path.join(folder_to, 'he.dev.txt'))\n",
    "    \n",
    "    shutil.copy(os.path.join(folder_from, 'en.dev.txt'), \n",
    "                os.path.join(folder_to, 'en.dev.txt'))\n",
    "    \n",
    "    shutil.copy(os.path.join(folder_from, 'he.test.txt'), \n",
    "                os.path.join(folder_to, 'he.test.txt'))\n",
    "    \n",
    "    shutil.copy(os.path.join(folder_from, 'en.test.txt'), \n",
    "                os.path.join(folder_to, 'en.test.txt'))\n",
    "    \n",
    "copy_files(RAW_DATA_PATH, data_dir, part='train')"
   ]
  },
  {
   "cell_type": "code",
   "execution_count": 5,
   "metadata": {},
   "outputs": [
    {
     "name": "stdout",
     "output_type": "stream",
     "text": [
      "en.dev.txt   en.test.txt  en.train.txt he.dev.txt   he.test.txt  he.train.txt\r\n"
     ]
    }
   ],
   "source": [
    "!ls $data_dir"
   ]
  },
  {
   "cell_type": "code",
   "execution_count": 6,
   "metadata": {},
   "outputs": [
    {
     "name": "stdout",
     "output_type": "stream",
     "text": [
      "README.md      \u001b[31mreset_model.sh\u001b[m\u001b[m \u001b[31mrun_datagen.sh\u001b[m\u001b[m \u001b[31mrun_train.sh\u001b[m\u001b[m   \u001b[31mtmp2.sh\u001b[m\u001b[m\r\n",
      "\u001b[31margs_parse.sh\u001b[m\u001b[m  \u001b[31mrun_all.sh\u001b[m\u001b[m     \u001b[31mrun_eval.sh\u001b[m\u001b[m    \u001b[31mtmp.sh\u001b[m\u001b[m\r\n"
     ]
    }
   ],
   "source": [
    "!ls $SCRIPTS_PATH"
   ]
  },
  {
   "cell_type": "code",
   "execution_count": 7,
   "metadata": {},
   "outputs": [],
   "source": [
    "problem_dir = process_path('t2t_problem')"
   ]
  },
  {
   "cell_type": "code",
   "execution_count": 8,
   "metadata": {
    "scrolled": true
   },
   "outputs": [],
   "source": [
    "full_run = !$SCRIPTS_PATH/run_all.sh --data_dir $data_dir --tmp_dir $cur_dir/tmp --train_dir $model_dir --t2t_usr_dir $problem_dir"
   ]
  },
  {
   "cell_type": "code",
   "execution_count": 9,
   "metadata": {},
   "outputs": [
    {
     "data": {
      "text/plain": [
       "'0.666206899383273'"
      ]
     },
     "execution_count": 9,
     "metadata": {},
     "output_type": "execute_result"
    }
   ],
   "source": [
    "full_run[-1]"
   ]
  },
  {
   "cell_type": "markdown",
   "metadata": {},
   "source": [
    "Половина"
   ]
  },
  {
   "cell_type": "code",
   "execution_count": 10,
   "metadata": {},
   "outputs": [],
   "source": [
    "cur_dir = os.path.join(RUNS_PATH, 'half_train')\n",
    "data_dir = os.path.join(cur_dir, 'data')\n",
    "model_dir = os.path.join(cur_dir, 'model')\n",
    "\n",
    "if not os.path.exists(data_dir):\n",
    "    os.makedirs(data_dir)\n",
    "    \n",
    "if not os.path.exists(model_dir):\n",
    "    os.makedirs(model_dir)\n",
    "    \n",
    "copy_files(RAW_DATA_PATH, data_dir, part='train_2')"
   ]
  },
  {
   "cell_type": "code",
   "execution_count": 11,
   "metadata": {},
   "outputs": [
    {
     "name": "stdout",
     "output_type": "stream",
     "text": [
      "en.dev.txt   en.test.txt  en.train.txt he.dev.txt   he.test.txt  he.train.txt\r\n"
     ]
    }
   ],
   "source": [
    "! ls $cur_dir/data"
   ]
  },
  {
   "cell_type": "code",
   "execution_count": 12,
   "metadata": {},
   "outputs": [],
   "source": [
    "half_run = !$SCRIPTS_PATH/run_all.sh --data_dir $data_dir --tmp_dir $cur_dir/tmp --train_dir $model_dir --t2t_usr_dir $problem_dir"
   ]
  },
  {
   "cell_type": "code",
   "execution_count": 13,
   "metadata": {},
   "outputs": [
    {
     "data": {
      "text/plain": [
       "'0.6557723614735206'"
      ]
     },
     "execution_count": 13,
     "metadata": {},
     "output_type": "execute_result"
    }
   ],
   "source": [
    "half_run[-1]"
   ]
  },
  {
   "cell_type": "markdown",
   "metadata": {},
   "source": [
    "Четверть"
   ]
  },
  {
   "cell_type": "code",
   "execution_count": 14,
   "metadata": {},
   "outputs": [],
   "source": [
    "cur_dir = os.path.join(RUNS_PATH, 'quarter_train')\n",
    "data_dir = os.path.join(cur_dir, 'data')\n",
    "model_dir = os.path.join(cur_dir, 'model')\n",
    "\n",
    "if not os.path.exists(data_dir):\n",
    "    os.makedirs(data_dir)\n",
    "    \n",
    "if not os.path.exists(model_dir):\n",
    "    os.makedirs(model_dir)\n",
    "    \n",
    "copy_files(RAW_DATA_PATH, data_dir, part='train_4')"
   ]
  },
  {
   "cell_type": "code",
   "execution_count": 15,
   "metadata": {},
   "outputs": [],
   "source": [
    "quarter_run = !$SCRIPTS_PATH/run_all.sh --data_dir $data_dir --tmp_dir $cur_dir/tmp --train_dir $model_dir --t2t_usr_dir $problem_dir\n"
   ]
  },
  {
   "cell_type": "code",
   "execution_count": 16,
   "metadata": {},
   "outputs": [
    {
     "data": {
      "text/plain": [
       "'0.6562037382083722'"
      ]
     },
     "execution_count": 16,
     "metadata": {},
     "output_type": "execute_result"
    }
   ],
   "source": [
    "quarter_run[-1]"
   ]
  },
  {
   "cell_type": "markdown",
   "metadata": {},
   "source": [
    "1/8"
   ]
  },
  {
   "cell_type": "code",
   "execution_count": 17,
   "metadata": {},
   "outputs": [],
   "source": [
    "cur_dir = os.path.join(RUNS_PATH, 'okta_train')\n",
    "data_dir = os.path.join(cur_dir, 'data')\n",
    "model_dir = os.path.join(cur_dir, 'model')\n",
    "\n",
    "if not os.path.exists(data_dir):\n",
    "    os.makedirs(data_dir)\n",
    "    \n",
    "if not os.path.exists(model_dir):\n",
    "    os.makedirs(model_dir)\n",
    "    \n",
    "copy_files(RAW_DATA_PATH, data_dir, part='train_8')"
   ]
  },
  {
   "cell_type": "code",
   "execution_count": 18,
   "metadata": {},
   "outputs": [],
   "source": [
    "okta_run = !$SCRIPTS_PATH/run_all.sh --data_dir $data_dir --tmp_dir $cur_dir/tmp --train_dir $model_dir --t2t_usr_dir $problem_dir\n"
   ]
  },
  {
   "cell_type": "code",
   "execution_count": 19,
   "metadata": {},
   "outputs": [
    {
     "data": {
      "text/plain": [
       "'0.6637315729589169'"
      ]
     },
     "execution_count": 19,
     "metadata": {},
     "output_type": "execute_result"
    }
   ],
   "source": [
    "okta_run[-1]"
   ]
  },
  {
   "cell_type": "code",
   "execution_count": 20,
   "metadata": {},
   "outputs": [],
   "source": [
    "import matplotlib.pyplot as plt\n",
    "%matplotlib inline"
   ]
  },
  {
   "cell_type": "code",
   "execution_count": 22,
   "metadata": {},
   "outputs": [],
   "source": [
    "scores = list(map(float, [okta_run[-1], quarter_run[-1], half_run[-1], full_run[-1]]))"
   ]
  },
  {
   "cell_type": "code",
   "execution_count": 23,
   "metadata": {},
   "outputs": [
    {
     "data": {
      "text/plain": [
       "[<matplotlib.lines.Line2D at 0x1088c4e80>]"
      ]
     },
     "execution_count": 23,
     "metadata": {},
     "output_type": "execute_result"
    },
    {
     "data": {
      "image/png": "[encoded data removed]",
      "text/plain": [
       "<matplotlib.figure.Figure at 0x107e97f60>"
      ]
     },
     "metadata": {},
     "output_type": "display_data"
    }
   ],
   "source": [
    "plt.plot([1./8, 1./4, 1./2, 1.], scores)"
   ]
  },
  {
   "cell_type": "code",
   "execution_count": null,
   "metadata": {},
   "outputs": [],
   "source": []
  }
 ],
 "metadata": {
  "kernelspec": {
   "display_name": "Python 3",
   "language": "python",
   "name": "python3"
  },
  "language_info": {
   "codemirror_mode": {
    "name": "ipython",
    "version": 3
   },
   "file_extension": ".py",
   "mimetype": "text/x-python",
   "name": "python",
   "nbconvert_exporter": "python",
   "pygments_lexer": "ipython3",
   "version": "3.6.3"
  }
 },
 "nbformat": 4,
 "nbformat_minor": 2
}
