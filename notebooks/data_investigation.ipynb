{
 "cells": [
  {
   "cell_type": "code",
   "execution_count": 6,
   "metadata": {},
   "outputs": [],
   "source": [
    "from collections import Counter\n",
    "import matplotlib.pyplot as plt"
   ]
  },
  {
   "cell_type": "markdown",
   "metadata": {},
   "source": [
    "Загружаем даные"
   ]
  },
  {
   "cell_type": "code",
   "execution_count": 53,
   "metadata": {},
   "outputs": [],
   "source": [
    "def read_file(filename):\n",
    "    with open('raw_data/' + filename) as file:\n",
    "        return [line.strip() for line in file]\n",
    "    \n",
    "he_words = read_file('he.train.txt')\n",
    "he_with_voc = read_file('hewv.train.txt')\n",
    "en_translit = read_file('en.train.txt')"
   ]
  },
  {
   "cell_type": "markdown",
   "metadata": {},
   "source": [
    "Посмотрим на распределение частоты слов"
   ]
  },
  {
   "cell_type": "code",
   "execution_count": 54,
   "metadata": {},
   "outputs": [],
   "source": [
    "he_words_counter = Counter(data)"
   ]
  },
  {
   "cell_type": "code",
   "execution_count": 55,
   "metadata": {},
   "outputs": [
    {
     "data": {
      "image/png": "[encoded data removed]",
      "text/plain": [
       "<Figure size 432x288 with 1 Axes>"
      ]
     },
     "metadata": {},
     "output_type": "display_data"
    }
   ],
   "source": [
    "plt.hist(he_words_counter.values(), bins=range(20));"
   ]
  },
  {
   "cell_type": "markdown",
   "metadata": {},
   "source": [
    "Выведем самые частые слова и посмотрим на варианты их транслита"
   ]
  },
  {
   "cell_type": "code",
   "execution_count": 56,
   "metadata": {},
   "outputs": [],
   "source": [
    "from collections import defaultdict"
   ]
  },
  {
   "cell_type": "code",
   "execution_count": 57,
   "metadata": {},
   "outputs": [],
   "source": [
    "translit_dict = defaultdict(list)\n",
    "for he, en in zip(he_words, en_translit):\n",
    "    translit_dict[he].append(en)"
   ]
  },
  {
   "cell_type": "code",
   "execution_count": 58,
   "metadata": {},
   "outputs": [
    {
     "name": "stdout",
     "output_type": "stream",
     "text": [
      "יהוה 93 ['yehavihu', 'yehvehh', 'yohuohu', 'yahve', 'yihvehh']\n",
      "לה 67 ['lohhah', 'lhohe', 'leh', 'lhh', 'lohe']\n",
      "וישב 59 ['vyashav', 'vyasav', 'vayisbh', 'vyasev', 'vyashov']\n",
      "ישנה 57 ['yasn', 'ysn', 'ysna', 'yisan', 'yishan']\n",
      "מספר 55 ['msefr', 'msaper', 'mesaper', 'mspor', 'misefr']\n"
     ]
    }
   ],
   "source": [
    "most_common = he_words_counter.most_common(5)\n",
    "for word, num in most_common:\n",
    "    print(word, num, translit_dict[word][:5])"
   ]
  },
  {
   "cell_type": "markdown",
   "metadata": {},
   "source": [
    "Посмотрим на распределение длины слов"
   ]
  },
  {
   "cell_type": "code",
   "execution_count": 59,
   "metadata": {},
   "outputs": [
    {
     "name": "stdout",
     "output_type": "stream",
     "text": [
      "mean: 5.388844758064516\n"
     ]
    },
    {
     "data": {
      "image/png": "[encoded data removed]",
      "text/plain": [
       "<Figure size 432x288 with 1 Axes>"
      ]
     },
     "metadata": {},
     "output_type": "display_data"
    }
   ],
   "source": [
    "lenghts = list(map(len, he_words))\n",
    "print(\"mean:\", sum(lenghts) / len(he_words))\n",
    "len_counts = sorted(Counter(lenghts).items(), key=lambda x: x[0])\n",
    "\n",
    "plt.plot(\n",
    "    [el[0] for el in len_counts],\n",
    "    [el[1] for el in len_counts]\n",
    ");"
   ]
  }
 ],
 "metadata": {
  "kernelspec": {
   "display_name": "Python 3",
   "language": "python",
   "name": "python3"
  },
  "language_info": {
   "codemirror_mode": {
    "name": "ipython",
    "version": 3
   },
   "file_extension": ".py",
   "mimetype": "text/x-python",
   "name": "python",
   "nbconvert_exporter": "python",
   "pygments_lexer": "ipython3",
   "version": "3.6.4"
  }
 },
 "nbformat": 4,
 "nbformat_minor": 2
}
