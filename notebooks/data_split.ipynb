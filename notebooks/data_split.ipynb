{
 "cells": [
  {
   "cell_type": "code",
   "execution_count": 1,
   "metadata": {},
   "outputs": [
    {
     "name": "stdout",
     "output_type": "stream",
     "text": [
      "Untitled.ipynb           \u001b[34mraw_data\u001b[m\u001b[m                 \u001b[34mt2t_data\u001b[m\u001b[m\r\n",
      "data_investigation.ipynb \u001b[34mscripts\u001b[m\u001b[m                  \u001b[34mt2t_problem\u001b[m\u001b[m\r\n",
      "data_split.ipynb         searcher.py\r\n"
     ]
    }
   ],
   "source": [
    "!ls"
   ]
  },
  {
   "cell_type": "code",
   "execution_count": 2,
   "metadata": {},
   "outputs": [],
   "source": [
    "import os\n",
    "from sklearn.model_selection import train_test_split\n",
    "\n",
    "SEED = 13\n",
    "TRAIN_PART_SIZE=0.01\n",
    "SEARCH_SIZE = 0.5\n",
    "\n",
    "RAW_DATA_PATH = './raw_data/'"
   ]
  },
  {
   "cell_type": "code",
   "execution_count": 3,
   "metadata": {},
   "outputs": [],
   "source": [
    "with open(os.path.join(RAW_DATA_PATH, 'he.train.txt')) as f:\n",
    "    he_data = [l.strip() for l in f]\n",
    "with open(os.path.join(RAW_DATA_PATH, 'en.train.txt')) as f:\n",
    "    en_data = [l.strip() for l in f]"
   ]
  },
  {
   "cell_type": "code",
   "execution_count": 4,
   "metadata": {},
   "outputs": [],
   "source": [
    "TRAIN_SIZE = len(he_data)"
   ]
  },
  {
   "cell_type": "code",
   "execution_count": 5,
   "metadata": {
    "scrolled": true
   },
   "outputs": [
    {
     "data": {
      "text/plain": [
       "496000"
      ]
     },
     "execution_count": 5,
     "metadata": {},
     "output_type": "execute_result"
    }
   ],
   "source": [
    "TRAIN_SIZE"
   ]
  },
  {
   "cell_type": "markdown",
   "metadata": {},
   "source": [
    "Отдельный кусок для проверки адекватности трейна"
   ]
  },
  {
   "cell_type": "code",
   "execution_count": 6,
   "metadata": {},
   "outputs": [
    {
     "name": "stdout",
     "output_type": "stream",
     "text": [
      "במדורות\r\n",
      "שיקרום\r\n",
      "איטר\r\n",
      "תוסס\r\n",
      "קב\r\n",
      "בשליא\r\n",
      "לפתוח\r\n",
      "שבותכם\r\n",
      "מצה\r\n",
      "מצרין\r\n"
     ]
    }
   ],
   "source": [
    "!head raw_data/he.train.txt"
   ]
  },
  {
   "cell_type": "code",
   "execution_count": 7,
   "metadata": {},
   "outputs": [],
   "source": [
    "he_train, he_test, en_train, en_test = train_test_split(he_data, en_data, test_size=TRAIN_PART_SIZE, \n",
    "                                                        random_state=SEED)\n"
   ]
  },
  {
   "cell_type": "code",
   "execution_count": 8,
   "metadata": {},
   "outputs": [],
   "source": [
    "with open(os.path.join(RAW_DATA_PATH, 'he.train_val.txt'), 'w') as f:\n",
    "    f.write('\\n'.join(he_test))\n",
    "with open(os.path.join(RAW_DATA_PATH, 'en.train_val.txt'), 'w') as f:\n",
    "    f.write('\\n'.join(en_test))"
   ]
  },
  {
   "cell_type": "code",
   "execution_count": 9,
   "metadata": {},
   "outputs": [
    {
     "name": "stdout",
     "output_type": "stream",
     "text": [
      "tafsira\r\n",
      "tshua\r\n",
      "raavono\r\n",
      "higlv\r\n",
      "limdu\r\n",
      "huzkra\r\n",
      "hmara\r\n",
      "lnau\r\n",
      "al-taase\r\n",
      "yya\r\n"
     ]
    }
   ],
   "source": [
    "!head raw_data/en.train_val.txt"
   ]
  },
  {
   "cell_type": "markdown",
   "metadata": {},
   "source": [
    "Search split"
   ]
  },
  {
   "cell_type": "code",
   "execution_count": 10,
   "metadata": {},
   "outputs": [],
   "source": [
    "he_train, he_search, en_train, en_search = train_test_split(he_train, en_train, test_size=SEARCH_SIZE, \n",
    "                                                            random_state=SEED)\n"
   ]
  },
  {
   "cell_type": "code",
   "execution_count": 11,
   "metadata": {},
   "outputs": [],
   "source": [
    "with open(os.path.join(RAW_DATA_PATH, 'he.search.txt'), 'w') as f:\n",
    "    f.write('\\n'.join(he_search))\n",
    "    \n",
    "with open(os.path.join(RAW_DATA_PATH, 'en.search.txt'), 'w') as f:\n",
    "    f.write('\\n'.join(en_search))"
   ]
  },
  {
   "cell_type": "code",
   "execution_count": 12,
   "metadata": {},
   "outputs": [],
   "source": [
    "with open(os.path.join(RAW_DATA_PATH, 'he.train_2.txt'), 'w') as f:\n",
    "    f.write('\\n'.join(he_train))\n",
    "    \n",
    "with open(os.path.join(RAW_DATA_PATH, 'en.train_2.txt'), 'w') as f:\n",
    "    f.write('\\n'.join(en_train))"
   ]
  },
  {
   "cell_type": "markdown",
   "metadata": {},
   "source": [
    "Сплит трейна на подвыборки"
   ]
  },
  {
   "cell_type": "code",
   "execution_count": 13,
   "metadata": {},
   "outputs": [],
   "source": [
    "for k in range(2, 4):\n",
    "    he_train, _, en_train, _ = train_test_split(he_train, en_train, test_size=0.5, random_state=SEED)\n",
    "    \n",
    "    with open(os.path.join(RAW_DATA_PATH, 'he.train_{}.txt'.format(2**k)), 'w') as f:\n",
    "        f.write('\\n'.join(he_train))\n",
    "    \n",
    "    with open(os.path.join(RAW_DATA_PATH, 'en.train_{}.txt'.format(2**k)), 'w') as f:\n",
    "        f.write('\\n'.join(en_train))\n"
   ]
  },
  {
   "cell_type": "code",
   "execution_count": 14,
   "metadata": {},
   "outputs": [
    {
     "name": "stdout",
     "output_type": "stream",
     "text": [
      "en.dev.txt       en.train_4.txt   he.test.txt      he.train_val.txt\r\n",
      "en.search.txt    en.train_8.txt   he.train.txt     hewv.dev.txt\r\n",
      "en.test.txt      en.train_val.txt he.train_2.txt   hewv.test.txt\r\n",
      "en.train.txt     he.dev.txt       he.train_4.txt   hewv.train.txt\r\n",
      "en.train_2.txt   he.search.txt    he.train_8.txt\r\n"
     ]
    }
   ],
   "source": [
    "!ls $RAW_DATA_PATH"
   ]
  },
  {
   "cell_type": "code",
   "execution_count": 15,
   "metadata": {},
   "outputs": [
    {
     "name": "stdout",
     "output_type": "stream",
     "text": [
      "   61379   75044  723459 ./raw_data//he.train_8.txt\r\n"
     ]
    }
   ],
   "source": [
    "!wc $RAW_DATA_PATH/he.train_8.txt"
   ]
  },
  {
   "cell_type": "code",
   "execution_count": null,
   "metadata": {},
   "outputs": [],
   "source": []
  }
 ],
 "metadata": {
  "kernelspec": {
   "display_name": "Python 3",
   "language": "python",
   "name": "python3"
  },
  "language_info": {
   "codemirror_mode": {
    "name": "ipython",
    "version": 3
   },
   "file_extension": ".py",
   "mimetype": "text/x-python",
   "name": "python",
   "nbconvert_exporter": "python",
   "pygments_lexer": "ipython3",
   "version": "3.6.3"
  }
 },
 "nbformat": 4,
 "nbformat_minor": 2
}
