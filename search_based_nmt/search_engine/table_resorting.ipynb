{
 "cells": [
  {
   "cell_type": "code",
   "execution_count": 1,
   "metadata": {},
   "outputs": [],
   "source": [
    "with open('big_table.txt') as handler:\n",
    "    data = []\n",
    "    for line in handler:\n",
    "        data.append(line.strip().split())"
   ]
  },
  {
   "cell_type": "code",
   "execution_count": 2,
   "metadata": {
    "scrolled": true
   },
   "outputs": [
    {
     "data": {
      "text/plain": [
       "['־צ׳יק',\n",
       " 'אג׳יק',\n",
       " 'אצדיק',\n",
       " 'בצדיק',\n",
       " 'דצדיק',\n",
       " 'דצעיק',\n",
       " 'הצדיק',\n",
       " 'הצחיק',\n",
       " 'וצדיק',\n",
       " 'וצעיק',\n",
       " 'וצ׳יו',\n",
       " 'יצדיק',\n",
       " 'כצדיק',\n",
       " 'לצדיק',\n",
       " 'מצדיק',\n",
       " 'מצחיק',\n",
       " 'מצ׳יג',\n",
       " 'מצ׳יי',\n",
       " 'נצחיק',\n",
       " 'פצ׳יל',\n",
       " 'צ׳יק',\n",
       " 'קצ׳אק',\n",
       " 'שצדיק',\n",
       " 'שצ׳יו',\n",
       " 'תצחיק',\n",
       " 'אבריק',\n",
       " 'אג׳אק',\n",
       " 'אג׳יו',\n",
       " 'אדביק',\n",
       " 'אדליק',\n",
       " 'אודיק',\n",
       " 'אוריק',\n",
       " 'אחזיק',\n",
       " 'אידיק',\n",
       " 'איזיק',\n",
       " 'איניק',\n",
       " 'איציק',\n",
       " 'אישיק',\n",
       " 'אלדיק',\n",
       " 'אלריק',\n",
       " 'אמתיק',\n",
       " 'אנגיק',\n",
       " 'אנפיק',\n",
       " 'אנריק',\n",
       " 'אנתיק',\n",
       " 'אסליק',\n",
       " 'אסמיק',\n",
       " 'אספיק',\n",
       " 'אעמיק',\n",
       " 'אעניק',\n",
       " 'אפסיק',\n",
       " 'אפצ׳יק',\n",
       " 'אצטיל',\n",
       " 'אצטית',\n",
       " 'אצייה',\n",
       " 'אצליו',\n",
       " 'אצליח',\n",
       " 'אצליך',\n",
       " 'אצליף',\n",
       " 'אצמיח',\n",
       " 'אצמית',\n",
       " 'אצנים',\n",
       " 'אצנית',\n",
       " 'אצ׳בה',\n",
       " 'אצ׳י',\n",
       " 'אצ׳רי',\n",
       " 'ארחיק',\n",
       " 'ארטיק',\n",
       " 'אשטיק',\n",
       " 'אשתיק',\n",
       " 'אתריק',\n",
       " 'א׳יק',\n",
       " 'באביק',\n",
       " 'באניק',\n",
       " 'בבריק',\n",
       " 'בג׳יו',\n",
       " 'בג׳יפ',\n",
       " 'בז׳יט',\n",
       " 'בח׳יר',\n",
       " 'בטניק',\n",
       " 'בידיק',\n",
       " 'בלייק',\n",
       " 'במדיק',\n",
       " 'במפיק',\n",
       " 'בנדיק',\n",
       " 'בנפיק',\n",
       " 'בנקיק',\n",
       " 'בסטיק',\n",
       " 'בסליק',\n",
       " 'בעתיק',\n",
       " 'בפליק',\n",
       " 'בצביץ',\n",
       " 'בצבית',\n",
       " 'בצדוק',\n",
       " 'בצדיא',\n",
       " 'בצדיה',\n",
       " 'בצדיו',\n",
       " 'בצד״ק',\n",
       " 'בצחוק',\n",
       " 'בצחיח']"
      ]
     },
     "execution_count": 2,
     "metadata": {},
     "output_type": "execute_result"
    }
   ],
   "source": [
    "data[0]"
   ]
  },
  {
   "cell_type": "code",
   "execution_count": 3,
   "metadata": {},
   "outputs": [],
   "source": [
    "from nltk.metrics.distance import edit_distance"
   ]
  },
  {
   "cell_type": "code",
   "execution_count": 4,
   "metadata": {},
   "outputs": [
    {
     "name": "stdout",
     "output_type": "stream",
     "text": [
      "[0, 1, 1, 1, 1, 1, 1, 1, 1, 1, 1, 1, 1, 1, 1, 1, 1, 1, 1, 1, 1, 1, 1, 1, 1, 1, 1, 1, 1, 1, 1, 1, 1, 1, 1, 1, 1, 1, 1, 2, 2, 2, 2, 2, 2, 2, 2, 2, 2, 2, 2, 2, 2, 2, 2, 2, 2, 2, 2, 2, 2, 2, 2, 2, 2, 2, 2, 2, 2, 2, 2, 2, 2, 2, 2, 2, 2, 2, 2, 2, 2, 2, 2, 2, 2, 2, 2, 2, 2, 2, 2, 2, 2, 2, 2, 2, 1, 2, 2, 2]\n"
     ]
    }
   ],
   "source": [
    "print([\n",
    "    edit_distance(data[30][0], data[30][i])\n",
    "    for i in range(100)\n",
    "])"
   ]
  },
  {
   "cell_type": "code",
   "execution_count": 5,
   "metadata": {},
   "outputs": [
    {
     "data": {
      "text/plain": [
       "1"
      ]
     },
     "execution_count": 5,
     "metadata": {},
     "output_type": "execute_result"
    }
   ],
   "source": [
    "edit_distance(data[30][0], data[30][-4])"
   ]
  },
  {
   "cell_type": "code",
   "execution_count": 6,
   "metadata": {},
   "outputs": [
    {
     "data": {
      "text/plain": [
       "('א֥', 'רא֥')"
      ]
     },
     "execution_count": 6,
     "metadata": {},
     "output_type": "execute_result"
    }
   ],
   "source": [
    "data[30][0], data[30][-4]"
   ]
  },
  {
   "cell_type": "code",
   "execution_count": 7,
   "metadata": {},
   "outputs": [],
   "source": [
    "def is_sorted(array):\n",
    "    levenshtein_array = [edit_distance(array[0], word) for word in array]\n",
    "    return sum(\n",
    "         a <= b for a, b in zip(levenshtein_array[:-1], levenshtein_array[1:])\n",
    "    )"
   ]
  },
  {
   "cell_type": "code",
   "execution_count": 8,
   "metadata": {},
   "outputs": [],
   "source": [
    "def not_sorted_counter(array):\n",
    "    levenshtein_array = [edit_distance(array[0], word) for word in array]\n",
    "    return sum(\n",
    "        1 if a > b else 0 for a, b in zip(levenshtein_array[:-1], levenshtein_array[1:])\n",
    "    )"
   ]
  },
  {
   "cell_type": "code",
   "execution_count": 9,
   "metadata": {},
   "outputs": [],
   "source": [
    "from collections import Counter"
   ]
  },
  {
   "cell_type": "code",
   "execution_count": 12,
   "metadata": {
    "scrolled": true
   },
   "outputs": [
    {
     "data": {
      "text/plain": [
       "Counter({0: 47808,\n",
       "         1: 46539,\n",
       "         2: 33567,\n",
       "         3: 28428,\n",
       "         4: 22314,\n",
       "         5: 16858,\n",
       "         6: 13492,\n",
       "         7: 10965,\n",
       "         8: 9309,\n",
       "         9: 7957,\n",
       "         10: 6973,\n",
       "         11: 6166,\n",
       "         12: 5519,\n",
       "         13: 5002,\n",
       "         14: 4619,\n",
       "         15: 4091,\n",
       "         16: 3633,\n",
       "         17: 3283,\n",
       "         18: 3014,\n",
       "         19: 2772,\n",
       "         20: 2511,\n",
       "         21: 2205,\n",
       "         22: 2000,\n",
       "         23: 1871,\n",
       "         24: 1575,\n",
       "         25: 1400,\n",
       "         26: 1239,\n",
       "         27: 972,\n",
       "         28: 841,\n",
       "         29: 648,\n",
       "         30: 483,\n",
       "         31: 379,\n",
       "         32: 209,\n",
       "         33: 126,\n",
       "         34: 104,\n",
       "         35: 25,\n",
       "         36: 18,\n",
       "         37: 8,\n",
       "         38: 3,\n",
       "         39: 2})"
      ]
     },
     "execution_count": 12,
     "metadata": {},
     "output_type": "execute_result"
    }
   ],
   "source": [
    "counter = Counter()\n",
    "for i, array in enumerate(data):\n",
    "    counter[not_sorted_counter(array)] += 1\n",
    "counter"
   ]
  },
  {
   "cell_type": "code",
   "execution_count": 16,
   "metadata": {},
   "outputs": [],
   "source": [
    "for i, words in enumerate(data):\n",
    "    data[i] = sorted(words, key=lambda x: edit_distance(words[0], x))"
   ]
  },
  {
   "cell_type": "code",
   "execution_count": 17,
   "metadata": {
    "scrolled": true
   },
   "outputs": [
    {
     "data": {
      "text/plain": [
       "['־צ׳יק',\n",
       " 'צ׳יק',\n",
       " 'אג׳יק',\n",
       " 'אצדיק',\n",
       " 'בצדיק',\n",
       " 'דצדיק',\n",
       " 'דצעיק',\n",
       " 'הצדיק',\n",
       " 'הצחיק',\n",
       " 'וצדיק',\n",
       " 'וצעיק',\n",
       " 'וצ׳יו',\n",
       " 'יצדיק',\n",
       " 'כצדיק',\n",
       " 'לצדיק',\n",
       " 'מצדיק',\n",
       " 'מצחיק',\n",
       " 'מצ׳יג',\n",
       " 'מצ׳יי',\n",
       " 'נצחיק',\n",
       " 'פצ׳יל',\n",
       " 'קצ׳אק',\n",
       " 'שצדיק',\n",
       " 'שצ׳יו',\n",
       " 'תצחיק',\n",
       " 'אפצ׳יק',\n",
       " 'אצ׳י',\n",
       " 'א׳יק',\n",
       " 'אבריק',\n",
       " 'אג׳אק',\n",
       " 'אג׳יו',\n",
       " 'אדביק',\n",
       " 'אדליק',\n",
       " 'אודיק',\n",
       " 'אוריק',\n",
       " 'אחזיק',\n",
       " 'אידיק',\n",
       " 'איזיק',\n",
       " 'איניק',\n",
       " 'איציק',\n",
       " 'אישיק',\n",
       " 'אלדיק',\n",
       " 'אלריק',\n",
       " 'אמתיק',\n",
       " 'אנגיק',\n",
       " 'אנפיק',\n",
       " 'אנריק',\n",
       " 'אנתיק',\n",
       " 'אסליק',\n",
       " 'אסמיק',\n",
       " 'אספיק',\n",
       " 'אעמיק',\n",
       " 'אעניק',\n",
       " 'אפסיק',\n",
       " 'אצטיל',\n",
       " 'אצטית',\n",
       " 'אצייה',\n",
       " 'אצליו',\n",
       " 'אצליח',\n",
       " 'אצליך',\n",
       " 'אצליף',\n",
       " 'אצמיח',\n",
       " 'אצמית',\n",
       " 'אצנים',\n",
       " 'אצנית',\n",
       " 'אצ׳בה',\n",
       " 'אצ׳רי',\n",
       " 'ארחיק',\n",
       " 'ארטיק',\n",
       " 'אשטיק',\n",
       " 'אשתיק',\n",
       " 'אתריק',\n",
       " 'באביק',\n",
       " 'באניק',\n",
       " 'בבריק',\n",
       " 'בג׳יו',\n",
       " 'בג׳יפ',\n",
       " 'בז׳יט',\n",
       " 'בח׳יר',\n",
       " 'בטניק',\n",
       " 'בידיק',\n",
       " 'בלייק',\n",
       " 'במדיק',\n",
       " 'במפיק',\n",
       " 'בנדיק',\n",
       " 'בנפיק',\n",
       " 'בנקיק',\n",
       " 'בסטיק',\n",
       " 'בסליק',\n",
       " 'בעתיק',\n",
       " 'בפליק',\n",
       " 'בצביץ',\n",
       " 'בצבית',\n",
       " 'בצדוק',\n",
       " 'בצדיא',\n",
       " 'בצדיה',\n",
       " 'בצדיו',\n",
       " 'בצד״ק',\n",
       " 'בצחוק',\n",
       " 'בצחיח']"
      ]
     },
     "execution_count": 17,
     "metadata": {},
     "output_type": "execute_result"
    }
   ],
   "source": [
    "data[0]"
   ]
  },
  {
   "cell_type": "code",
   "execution_count": 15,
   "metadata": {},
   "outputs": [
    {
     "data": {
      "text/plain": [
       "0.6540504736926618"
      ]
     },
     "execution_count": 15,
     "metadata": {},
     "output_type": "execute_result"
    }
   ],
   "source": [
    "(47808 + 46539 + 33567 + 28428 + 22314 + 16858)/ len(data)"
   ]
  },
  {
   "cell_type": "code",
   "execution_count": 18,
   "metadata": {},
   "outputs": [
    {
     "data": {
      "text/plain": [
       "Counter({0: 298928})"
      ]
     },
     "execution_count": 18,
     "metadata": {},
     "output_type": "execute_result"
    }
   ],
   "source": [
    "counter = Counter()\n",
    "for i, array in enumerate(data):\n",
    "    counter[not_sorted_counter(array)] += 1\n",
    "counter"
   ]
  },
  {
   "cell_type": "code",
   "execution_count": 19,
   "metadata": {},
   "outputs": [],
   "source": [
    "with open('big_table.txt', 'w') as handler:\n",
    "    for array in data:\n",
    "        handler.write(' '.join(array) + '\\n')"
   ]
  },
  {
   "cell_type": "code",
   "execution_count": null,
   "metadata": {},
   "outputs": [],
   "source": []
  }
 ],
 "metadata": {
  "kernelspec": {
   "display_name": "Python 3",
   "language": "python",
   "name": "python3"
  },
  "language_info": {
   "codemirror_mode": {
    "name": "ipython",
    "version": 3
   },
   "file_extension": ".py",
   "mimetype": "text/x-python",
   "name": "python",
   "nbconvert_exporter": "python",
   "pygments_lexer": "ipython3",
   "version": "3.6.4"
  }
 },
 "nbformat": 4,
 "nbformat_minor": 2
}
